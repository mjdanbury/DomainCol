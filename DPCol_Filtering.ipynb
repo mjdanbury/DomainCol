{
 "cells": [
  {
   "cell_type": "code",
   "execution_count": 67,
   "metadata": {},
   "outputs": [],
   "source": [
    "from matplotlib import use\n",
    "use('Qt4Agg')\n",
    "\n",
    "import numpy as np\n",
    "import matplotlib.pyplot as plt\n",
    "import hyperspy.api as hs\n",
    "from os import listdir\n",
    "import cv2"
   ]
  },
  {
   "cell_type": "code",
   "execution_count": 68,
   "metadata": {
    "collapsed": true
   },
   "outputs": [],
   "source": [
    "# useful constants \n",
    "pi = np.pi\n",
    "halfPi = pi/2.0\n",
    "halfRangeDivPi = 255.0/pi ###WRONG\n",
    "sqrtTwo = np.sqrt(2.0)\n",
    "infFloat = float('inf')\n",
    "sat = 0.7"
   ]
  },
  {
   "cell_type": "code",
   "execution_count": 69,
   "metadata": {
    "collapsed": true
   },
   "outputs": [],
   "source": [
    "#import image data from .emd files as type Signal2D using hyperSpy\n",
    "datadir = '/Users/matt/Box/KEM Group Docs/For Matt/Datasets/180911/Processed Data/DPC/'\n",
    "name = '12_DPC_1024px_1x2.5us_CL380mm 29.1 kx 0001'\n",
    "emdf = hs.load(datadir+name+'.emd')"
   ]
  },
  {
   "cell_type": "code",
   "execution_count": 4,
   "metadata": {
    "collapsed": true
   },
   "outputs": [],
   "source": [
    "# Analyze .emd file tree strucutre using hyperSpy\n",
    "emdf\n",
    "emdf[0].original_metadata;"
   ]
  },
  {
   "cell_type": "code",
   "execution_count": 70,
   "metadata": {
    "collapsed": true
   },
   "outputs": [],
   "source": [
    "# create differential readouts in ndArray format\n",
    "AC = np.empty((1024,1024), dtype=np.float32)\n",
    "AC = np.subtract(emdf[4].data,emdf[0].data)      #.data attribute allows for export to ndArray\n",
    "\n",
    "BD = np.empty((1024,1024), dtype=np.float32)\n",
    "BD = np.subtract(emdf[3].data,emdf[5].data)"
   ]
  },
  {
   "cell_type": "code",
   "execution_count": null,
   "metadata": {
    "collapsed": true
   },
   "outputs": [],
   "source": [
    "# calculate phase using vectorized trick for quotient\n",
    "# quoTrick = np.empty((1024,1024), dtype=np.float32)\n",
    "# IA = np.zeros_like(AC)\n",
    "\n",
    "# with np.nditer(IA, op_flags=['readwrite']) as it:\n",
    "#     for x in it:\n",
    "#         x[...] = float('inf')\n",
    "        \n",
    "# quoTrick = np.divide(AC, BD, out= IA, where= BD !=0)\n",
    "# phaseTrick = np.arctan(quoTrick)           #how did you get this to work last night???"
   ]
  },
  {
   "cell_type": "code",
   "execution_count": 71,
   "metadata": {
    "collapsed": true
   },
   "outputs": [],
   "source": [
    "# calculate phase using laborius checking technique\n",
    "quoHard = np.empty((1024,1024), dtype=np.float32)\n",
    "phaseHard = np.empty((1024,1024), dtype=np.float32)\n",
    "\n",
    "for i in range(0,1024):                                \n",
    "    for j in range (0,1024):                           \n",
    "            if BD[i][j] == 0:                           #handle divide by zero cases\n",
    "                quoHard[i][j] = float('inf')   \n",
    "            else:\n",
    "                quoHard[i][j] = (AC[i][j])/(BD[i][j])   # (y/x) where AC = y, BD = x \n",
    "                \n",
    "            if BD[i][j]<0:\n",
    "                phaseHard[i][j] = np.arctan(quoHard[i][j])\n",
    "                phaseHard[i][j] += pi\n",
    "            else:\n",
    "                phaseHard[i][j] = np.arctan(quoHard[i][j])\n",
    "            \n",
    "            phaseHard[i][j] = (phaseHard[i][j] + pi/2.0)*(179/pi)"
   ]
  },
  {
   "cell_type": "code",
   "execution_count": null,
   "metadata": {
    "collapsed": true
   },
   "outputs": [],
   "source": [
    "# show a difference map of the arctan of each method\n"
   ]
  },
  {
   "cell_type": "code",
   "execution_count": 83,
   "metadata": {
    "collapsed": true
   },
   "outputs": [],
   "source": [
    "magnitude = np.sqrt(np.add(np.square(AC),np.square(BD)))\n",
    "norm = np.max(magnitude)"
   ]
  },
  {
   "cell_type": "code",
   "execution_count": null,
   "metadata": {
    "collapsed": true
   },
   "outputs": [],
   "source": [
    "# explore the properties of magnitude to properly normalize the dataset \n",
    "# np.max(magnitude)\n",
    "# np.min(magnitude)\n",
    "\n",
    "# for i in range(0,1024):                                \n",
    "#     for j in range (0,1024): \n",
    "#         if i%100 == 0:\n",
    "#             print(magnitude[i][j])"
   ]
  },
  {
   "cell_type": "code",
   "execution_count": 84,
   "metadata": {
    "collapsed": true
   },
   "outputs": [],
   "source": [
    "# normalize magnitude to fit into hsv \n",
    "#For HSV, Hue range is [0,179], Saturation range is [0,255] and Value range is [0,255]\n",
    "for i in range(0,1024):                                \n",
    "    for j in range (0,1024): \n",
    "        if magnitude[i][j] > 0.4*norm:\n",
    "            magnitude[i][j] = 0.0\n",
    "            \n",
    "            \n",
    "norm = np.max(magnitude)\n",
    "for i in range(0,1024):                                \n",
    "    for j in range (0,1024):\n",
    "        magnitude[i][j]*= (1.0/norm)"
   ]
  },
  {
   "cell_type": "code",
   "execution_count": 85,
   "metadata": {
    "collapsed": true
   },
   "outputs": [],
   "source": [
    "dpcmap = np.empty((1024,1024,3),dtype=np.float32)\n",
    "\n",
    "for i in range(0,1024):                                \n",
    "    for j in range (0,1024): \n",
    "        dpcmap[i][j][0] = phaseHard[i][j]\n",
    "        dpcmap[i][j][1] = 1.0\n",
    "        dpcmap[i][j][2] = magnitude[i][j]"
   ]
  },
  {
   "cell_type": "code",
   "execution_count": 86,
   "metadata": {
    "collapsed": true
   },
   "outputs": [],
   "source": [
    "dpcOut = np.empty((1024,1024,3),dtype=np.float32)\n",
    "dpcOut = cv2.cvtColor(dpcmap, cv2.COLOR_HSV2BGR )"
   ]
  },
  {
   "cell_type": "code",
   "execution_count": 87,
   "metadata": {
    "collapsed": true
   },
   "outputs": [],
   "source": [
    "plt.imshow(dpcOut)\n",
    "plt.axis('off')\n",
    "# plt.savefig(name+'_cmap.png')\n",
    "# plt.savefig(name+'cmap.eps', format='eps', dpi=1000)\n",
    "plt.show()"
   ]
  },
  {
   "cell_type": "code",
   "execution_count": null,
   "metadata": {
    "collapsed": true
   },
   "outputs": [],
   "source": []
  }
 ],
 "metadata": {
  "kernelspec": {
   "display_name": "Python 3",
   "language": "python",
   "name": "python3"
  },
  "language_info": {
   "codemirror_mode": {
    "name": "ipython",
    "version": 3
   },
   "file_extension": ".py",
   "mimetype": "text/x-python",
   "name": "python",
   "nbconvert_exporter": "python",
   "pygments_lexer": "ipython3",
   "version": "3.6.3"
  }
 },
 "nbformat": 4,
 "nbformat_minor": 2
}
