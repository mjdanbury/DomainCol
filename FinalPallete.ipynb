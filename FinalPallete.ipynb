{
 "cells": [
  {
   "cell_type": "code",
   "execution_count": 3,
   "metadata": {
    "collapsed": true
   },
   "outputs": [],
   "source": [
    "from matplotlib import use\n",
    "use('Qt4Agg')\n",
    "\n",
    "import numpy as np\n",
    "import matplotlib.pyplot as plt\n",
    "import hyperspy.api as hs\n",
    "from os import listdir\n",
    "import cv2\n",
    "import cmocean"
   ]
  },
  {
   "cell_type": "code",
   "execution_count": 6,
   "metadata": {
    "collapsed": true
   },
   "outputs": [],
   "source": [
    "pi = np.pi\n",
    "halfPi = pi/2.0\n",
    "halfRangeDivPi = 255.0/pi ###WRONG\n",
    "sqrtTwo = np.sqrt(2.0)\n",
    "infFloat = float('inf')\n",
    "sat = 0.7\n"
   ]
  },
  {
   "cell_type": "code",
   "execution_count": 12,
   "metadata": {
    "collapsed": true
   },
   "outputs": [],
   "source": [
    "wheel = np.empty((1024,1024,3),dtype=np.float32)"
   ]
  },
  {
   "cell_type": "code",
   "execution_count": null,
   "metadata": {
    "collapsed": true
   },
   "outputs": [],
   "source": [
    "# wheel.ndim    #dimensions of wheel\n",
    "# wheel.size    #number of elements in wheel\n",
    "# wheel.itemsize #number of bytes per element"
   ]
  },
  {
   "cell_type": "code",
   "execution_count": 13,
   "metadata": {},
   "outputs": [],
   "source": [
    "for i in range(0,1024):                                # compute the phase angle of the\n",
    "    for j in range (0,1024):                           # array elements\n",
    "            if i != 511:\n",
    "                wheel[i][j][0] = (j-511.0)/(i-511.0)   #prepare quotient for arctan(y/x)\n",
    "            else:\n",
    "                wheel[i][j][0] = float('inf')        #how do I handle +- float inf????\n",
    "                \n",
    "for i in range(0,1024):\n",
    "    for j in range (0,1024):\n",
    "        wheel[i][j][0] = np.arctan(wheel[i][j][0])\n",
    "        if (i<512):\n",
    "            wheel[i][j][0]+= pi\n",
    "        if (i == 511 and j > 511):\n",
    "            wheel[i][j][0]+= pi\n",
    "        \n",
    "\n",
    "    \n",
    "for i in range(0,1024):\n",
    "    for j in range (0,1024):\n",
    "        wheel[i][j][0] = (wheel[i][j][0] + pi/2.0)*(179/(pi))\n",
    "\n",
    "#         if i%100 == 0:\n",
    "#             print(wheel[i][j][0])\n",
    "        \n",
    "        \n",
    "        \n"
   ]
  },
  {
   "cell_type": "code",
   "execution_count": 14,
   "metadata": {
    "collapsed": true
   },
   "outputs": [],
   "source": [
    "for i in range(0,1024):\n",
    "    for j in range (0,1024):\n",
    "                wheel[i][j][1] = 1.0"
   ]
  },
  {
   "cell_type": "code",
   "execution_count": 18,
   "metadata": {
    "collapsed": true
   },
   "outputs": [],
   "source": [
    "for i in range(0,1024):\n",
    "    for j in range (0,1024):\n",
    "                wheel[i][j][2] = np.sqrt((i-511)*(i-511) + (j-511)*(j-511))\n",
    "            \n",
    "for i in range(0,1024):\n",
    "    for j in range (0,1024):\n",
    "                wheel[i][j][2] = ((wheel[i][j][2]*(1.0/1024.0)/np.sqrt(2))*1.0) +0.0"
   ]
  },
  {
   "cell_type": "code",
   "execution_count": 7,
   "metadata": {
    "collapsed": true
   },
   "outputs": [],
   "source": [
    "# pal = np.array(wheel,dtype=np.float32)"
   ]
  },
  {
   "cell_type": "code",
   "execution_count": 19,
   "metadata": {
    "collapsed": true
   },
   "outputs": [],
   "source": [
    "noyce = np.empty((1024,1024,3),dtype=np.float32)\n",
    "# noyce = cv2.cvtColor(pal, cv2.COLOR_HSV2BGR )\n",
    "noyce = cv2.cvtColor(wheel, cv2.COLOR_HSV2BGR )\n",
    "\n",
    "# cv2.cvtColor(src, code[, dst[, dstCn]]) → dst\n",
    "\n",
    "\n"
   ]
  },
  {
   "cell_type": "code",
   "execution_count": 20,
   "metadata": {
    "collapsed": true
   },
   "outputs": [],
   "source": [
    "# plt.imshow(cv2.cvtColor(noyce, cv2.BGR2RGB))\n",
    "plt.imshow(noyce)\n",
    "# as opencv loads in BGR format by default, we want to show it in RGB.\n",
    "plt.axis('off')\n",
    "plt.show()\n"
   ]
  },
  {
   "cell_type": "code",
   "execution_count": null,
   "metadata": {
    "collapsed": true
   },
   "outputs": [],
   "source": []
  },
  {
   "cell_type": "code",
   "execution_count": null,
   "metadata": {
    "collapsed": true
   },
   "outputs": [],
   "source": []
  }
 ],
 "metadata": {
  "kernelspec": {
   "display_name": "Python 3",
   "language": "python",
   "name": "python3"
  },
  "language_info": {
   "codemirror_mode": {
    "name": "ipython",
    "version": 3
   },
   "file_extension": ".py",
   "mimetype": "text/x-python",
   "name": "python",
   "nbconvert_exporter": "python",
   "pygments_lexer": "ipython3",
   "version": "3.6.3"
  }
 },
 "nbformat": 4,
 "nbformat_minor": 2
}
